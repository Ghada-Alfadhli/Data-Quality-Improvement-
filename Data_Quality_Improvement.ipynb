{
  "nbformat": 4,
  "nbformat_minor": 0,
  "metadata": {
    "colab": {
      "provenance": []
    },
    "kernelspec": {
      "name": "python3",
      "display_name": "Python 3"
    },
    "language_info": {
      "name": "python"
    }
  },
  "cells": [
    {
      "cell_type": "code",
      "execution_count": 1,
      "metadata": {
        "colab": {
          "base_uri": "https://localhost:8080/"
        },
        "id": "l2Gk-mxFSPTS",
        "outputId": "ec2f439e-3847-4989-e802-29be308568f9"
      },
      "outputs": [
        {
          "output_type": "stream",
          "name": "stdout",
          "text": [
            "    CustomerID  OrderID              Product  Quantity  Price   OrderDate  \\\n",
            "0         1001   1001.0      Apple iPhone XR         2    699  2022-01-05   \n",
            "1         1002   1002.0   Samsung Galaxy S10         1    899  2021-12-15   \n",
            "2         1003   1003.0      Google Pixel 4a         3    349  2022-02-28   \n",
            "3         1004   1004.0        OnePlus 9 Pro         1    799  2022-03-10   \n",
            "4         1005   1005.0    Apple MacBook Pro         1   1999  2020-11-30   \n",
            "5         1006   1006.0      Google Pixel 4a         1    349  2022-03-15   \n",
            "7         1007   1007.0   Sony PlayStation 5         1    499  2022-02-10   \n",
            "8         1008   1008.0    Samsung 65\" 4K TV         1   1099  2022-01-20   \n",
            "9         1009   1009.0       Fitbit Versa 3         1    229  2022-03-15   \n",
            "10        1010   1010.0  HP LaserJet Printer         1    299  2022-02-05   \n",
            "11        1010  10101.0  HP LaserJet Printer         1    299         NaN   \n",
            "\n",
            "        Status  Rating  \n",
            "0      Shipped   4.500  \n",
            "1    Cancelled   3.200  \n",
            "2    Delivered   4.000  \n",
            "3   Processing   4.275  \n",
            "4      Shipped   4.800  \n",
            "5    Delivered   4.275  \n",
            "7      Shipped   4.600  \n",
            "8    Delivered   4.400  \n",
            "9   Processing   4.275  \n",
            "10   Delivered   4.275  \n",
            "11   Delivered   4.500  \n"
          ]
        }
      ],
      "source": [
        "import pandas as pd\n",
        "import numpy as np\n",
        "\n",
        "# Original dataset as a dictionary\n",
        "data = {\n",
        "    'CustomerID': [1001, 1002, 1003, 1004, 1005, 1006, 1006, 1007, 1008, 1009, 1010, 1010],\n",
        "    'OrderID': [1001, 1002, 1003, None, 1005, 1006, 1006, 1007, 1008, 1009, 1010, 10101],\n",
        "    'Product': ['Apple iPhone XR', 'Samsung Galaxy S10', 'Google Pixel 4a', 'OnePlus 9 Pro', 'Apple MacBook Pro',\n",
        "                'Google Pixel 4a', 'Amazon Echo Dot', 'Sony PlayStation 5', 'Samsung 65\" 4K TV', 'Fitbit Versa 3',\n",
        "                'HP LaserJet Printer', 'HP LaserJet Printer'],\n",
        "    'Quantity': [2, 1, 3, 1, 1, 1, 2, 1, 1, 1, 1, 1],\n",
        "    'Price': [699, 899, 349, 799, 1999, 349, 49, 499, 1099, 229, 299, 299],\n",
        "    'OrderDate': ['2022-01-05', '2021-12-15', '2022-02-28', '2022-03-10', '2020-11-30', '2022-03-15', '2022-04-02',\n",
        "                  '2022-02-10', '2022-01-20', '2022-03-15', '2022-02-05', None],\n",
        "    'Status': ['Shipped', 'Cancelled', 'Delivered', 'Processing', 'Shipped', 'Delivered', 'Delivered', 'Shipped',\n",
        "               'Delivered', 'Processing', 'Delivered', 'Delivered'],\n",
        "    'Rating': [4.5, 3.2, 4.0, None, 4.8, None, 4.2, 4.6, 4.4, None, None, 4.5]\n",
        "}\n",
        "\n",
        "# Create DataFrame\n",
        "df = pd.DataFrame(data)\n",
        "\n",
        "# Convert 'OrderDate' to datetime, coercing errors\n",
        "df['OrderDate'] = pd.to_datetime(df['OrderDate'], errors='coerce')\n",
        "\n",
        "# Fill missing ratings with an average or placeholder\n",
        "df['Rating'] = df['Rating'].fillna(df['Rating'].mean())\n",
        "\n",
        "# Standardize 'OrderDate' format\n",
        "df['OrderDate'] = df['OrderDate'].dt.strftime('%Y-%m-%d')\n",
        "\n",
        "# Drop duplicates based on 'OrderID'\n",
        "df = df.drop_duplicates(subset='OrderID', keep='first')\n",
        "\n",
        "# Fix missing OrderID for the 4th record\n",
        "df.at[3, 'OrderID'] = 1004\n",
        "\n",
        "print(df)"
      ]
    }
  ]
}